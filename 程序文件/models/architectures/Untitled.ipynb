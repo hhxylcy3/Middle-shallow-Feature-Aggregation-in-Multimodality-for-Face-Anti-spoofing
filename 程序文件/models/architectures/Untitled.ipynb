{
 "cells": [
  {
   "cell_type": "code",
   "execution_count": 1,
   "metadata": {},
   "outputs": [
    {
     "name": "stdout",
     "output_type": "stream",
     "text": [
      "torch.Size([2, 512])\n"
     ]
    }
   ],
   "source": [
    "import resnet_caffe\n",
    "from resnet_caffe import *\n",
    "import torch\n",
    "\n",
    "model = resnet_caffe.FeatherNet_siam()\n",
    "#print(model)\n",
    "rgb = torch.rand(2, 3, 112, 112)\n",
    "ir = torch.rand(2, 3, 112, 112)\n",
    "depth = torch.rand(2, 3, 112, 112)\n",
    "#fn = FeatherNet( csa = False, nse = True,avgdown=True)\n",
    "#rgb_backbone = fn(rgb) \n",
    "#depth_backbone = fn(depth)\n",
    "#ir_backbone = fn(ir)\n",
    "#layer4 = make_layer(1,384, 512,2, csa = False, nse = True,avgdown = False) \n",
    "\n",
    "#x = torch.cat((rgb_backbone,depth_backbone,ir_backbone), dim=1)    #384*7*7\n",
    "#x =layer4(x) \n",
    "\n",
    "\n",
    "\n",
    "#print(x.size())\n",
    "print(model(rgb, depth, ir).size())"
   ]
  },
  {
   "cell_type": "code",
   "execution_count": 28,
   "metadata": {},
   "outputs": [
    {
     "name": "stdout",
     "output_type": "stream",
     "text": [
      "torch.Size([2, 3, 3, 3])\n",
      "torch.Size([2, 3, 4, 4])\n"
     ]
    }
   ],
   "source": [
    "import torch\n",
    "import resnet_caffe\n",
    "from resnet_caffe import *\n",
    "x = torch.rand(2,3,7,7)\n",
    "pool = torch.nn.AvgPool2d(2, stride=2,padding =0)\n",
    "x1 = pool(x)\n",
    "conv = nn.Conv2d(3, 3, 3, 2, 1, groups=3, bias=False)\n",
    "x2 = conv(x)\n",
    "\n",
    "print(x1.size())\n",
    "print(x2.size())"
   ]
  },
  {
   "cell_type": "code",
   "execution_count": null,
   "metadata": {},
   "outputs": [],
   "source": []
  },
  {
   "cell_type": "code",
   "execution_count": null,
   "metadata": {},
   "outputs": [],
   "source": []
  }
 ],
 "metadata": {
  "kernelspec": {
   "display_name": "Python 3 (ipykernel)",
   "language": "python",
   "name": "python3"
  },
  "language_info": {
   "codemirror_mode": {
    "name": "ipython",
    "version": 3
   },
   "file_extension": ".py",
   "mimetype": "text/x-python",
   "name": "python",
   "nbconvert_exporter": "python",
   "pygments_lexer": "ipython3",
   "version": "3.9.7"
  }
 },
 "nbformat": 4,
 "nbformat_minor": 4
}
